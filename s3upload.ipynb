{
 "cells": [
  {
   "cell_type": "code",
   "execution_count": 2,
   "metadata": {},
   "outputs": [],
   "source": [
    "import os\n",
    "import boto3\n",
    "from botocore.exceptions import NoCredentialsError"
   ]
  },
  {
   "cell_type": "code",
   "execution_count": 3,
   "metadata": {},
   "outputs": [],
   "source": [
   ]
  },
  {
   "cell_type": "code",
   "execution_count": 4,
   "metadata": {},
   "outputs": [],
   "source": [
    "s3_client=boto3.client(\n",
    "                        's3',\n",
    "                        aws_access_key_id = Access_key,\n",
    "                        aws_secret_access_key = Secret_key\n",
    ")"
   ]
  },
  {
   "cell_type": "code",
   "execution_count": 30,
   "metadata": {},
   "outputs": [],
   "source": [
    "folder_path = \"C:/Users/Admin/Desktop/final_project/dataset\"\n",
    "for root, _, files in os.walk(folder_path):\n",
    "    for file in files:\n",
    "        local_file_path = os.path.join(root, file)\n",
    "        relative_path = os.path.relpath(local_file_path, folder_path)\n",
    "        s3_object_key = os.path.join('dataset/', relative_path).replace(\"\\\\\", \"/\") \n",
    "        s3_client.upload_file(local_file_path, 'chefmate-unstructured', s3_object_key)"
   ]
  },
  {
   "cell_type": "code",
   "execution_count": 7,
   "metadata": {},
   "outputs": [
    {
     "name": "stdout",
     "output_type": "stream",
     "text": [
      "Downloading dataset/ to C:/Users/Admin/Desktop/final_project/aws/dataset\\...\n",
      "Failed to download dataset/. Error: [WinError 5] Access is denied: 'C:/Users/Admin/Desktop/final_project/aws/dataset\\\\'\n",
      "Downloading dataset/file1.json to C:/Users/Admin/Desktop/final_project/aws/dataset\\file1.json...\n",
      "Downloaded: C:/Users/Admin/Desktop/final_project/aws/dataset\\file1.json\n",
      "Downloading dataset/file2.json to C:/Users/Admin/Desktop/final_project/aws/dataset\\file2.json...\n",
      "Downloaded: C:/Users/Admin/Desktop/final_project/aws/dataset\\file2.json\n",
      "Downloading dataset/file3.json to C:/Users/Admin/Desktop/final_project/aws/dataset\\file3.json...\n",
      "Downloaded: C:/Users/Admin/Desktop/final_project/aws/dataset\\file3.json\n",
      "Downloading dataset/file4.json to C:/Users/Admin/Desktop/final_project/aws/dataset\\file4.json...\n",
      "Downloaded: C:/Users/Admin/Desktop/final_project/aws/dataset\\file4.json\n",
      "Downloading dataset/file5.json to C:/Users/Admin/Desktop/final_project/aws/dataset\\file5.json...\n",
      "Downloaded: C:/Users/Admin/Desktop/final_project/aws/dataset\\file5.json\n"
     ]
    }
   ],
   "source": [
    "bucket_name = 'chefmate-unstructured'\n",
    "s3_prefix = 'dataset/'\n",
    "\n",
    "local_download_dir = \"C:/Users/Admin/Desktop/final_project/aws/dataset\"\n",
    "\n",
    "os.makedirs(local_download_dir, exist_ok=True)\n",
    "\n",
    "response = s3_client.list_objects_v2(Bucket=bucket_name, Prefix=s3_prefix)\n",
    "\n",
    "if 'Contents' in response:\n",
    "    for obj in response['Contents']:\n",
    "        s3_object_key = obj['Key'] \n",
    "        if s3_object_key.strip() in ['.', '..', '']:\n",
    "            print(f\"Skipping invalid key: {s3_object_key}\")\n",
    "            continue\n",
    "\n",
    "        relative_path = os.path.relpath(s3_object_key, s3_prefix)\n",
    "        relative_path = relative_path.replace(\"\\\\\", \"/\")\n",
    "        relative_path = relative_path.strip(\".\") \n",
    "        local_file_path = os.path.join(local_download_dir, relative_path)\n",
    "\n",
    "        os.makedirs(os.path.dirname(local_file_path), exist_ok=True)\n",
    "\n",
    "        try:\n",
    "            print(f\"Downloading {s3_object_key} to {local_file_path}...\")\n",
    "            s3_client.download_file(bucket_name, s3_object_key, local_file_path)\n",
    "            print(f\"Downloaded: {local_file_path}\")\n",
    "        except Exception as e:\n",
    "            print(f\"Failed to download {s3_object_key}. Error: {e}\")\n",
    "else:\n",
    "    print(f\"No files found in bucket '{bucket_name}' with prefix '{s3_prefix}'.\")\n"
   ]
  },
  {
   "cell_type": "code",
   "execution_count": null,
   "metadata": {},
   "outputs": [],
   "source": []
  }
 ],
 "metadata": {
  "kernelspec": {
   "display_name": "tensorflow",
   "language": "python",
   "name": "python3"
  },
  "language_info": {
   "codemirror_mode": {
    "name": "ipython",
    "version": 3
   },
   "file_extension": ".py",
   "mimetype": "text/x-python",
   "name": "python",
   "nbconvert_exporter": "python",
   "pygments_lexer": "ipython3",
   "version": "3.10.15"
  }
 },
 "nbformat": 4,
 "nbformat_minor": 2
}
